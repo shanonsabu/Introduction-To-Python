{
  "nbformat": 4,
  "nbformat_minor": 0,
  "metadata": {
    "colab": {
      "name": "Untitled1.ipynb",
      "provenance": [],
      "collapsed_sections": []
    },
    "kernelspec": {
      "name": "python3",
      "display_name": "Python 3"
    },
    "language_info": {
      "name": "python"
    }
  },
  "cells": [
    {
      "cell_type": "code",
      "execution_count": 10,
      "metadata": {
        "id": "HwHpb3tLyGXL"
      },
      "outputs": [],
      "source": [
        "x=20"
      ]
    },
    {
      "cell_type": "code",
      "source": [
        "if x > 10 :\n",
        "   print (\"x > 10\")"
      ],
      "metadata": {
        "colab": {
          "base_uri": "https://localhost:8080/"
        },
        "id": "ivXMYtCd0DJi",
        "outputId": "a982e090-528c-4a49-e6a2-6b0add6dba75"
      },
      "execution_count": 9,
      "outputs": [
        {
          "output_type": "stream",
          "name": "stdout",
          "text": [
            "x > 10\n"
          ]
        }
      ]
    },
    {
      "cell_type": "code",
      "source": [
        "x=20\n",
        "if x>10:\n",
        "  print ('x>10')\n",
        "if x<10:\n",
        "    print('x<10')\n",
        "if x==10:\n",
        " print('x=10')"
      ],
      "metadata": {
        "colab": {
          "base_uri": "https://localhost:8080/"
        },
        "id": "836FpEmF0rLp",
        "outputId": "b66c9f5f-4920-4c8c-b989-153bd53b849c"
      },
      "execution_count": 17,
      "outputs": [
        {
          "output_type": "stream",
          "name": "stdout",
          "text": [
            "x>10\n"
          ]
        }
      ]
    },
    {
      "cell_type": "code",
      "source": [
        "x= int(input('enter your mark'))\n",
        "if x>100:\n",
        "  print('pass')\n",
        "if x<100:\n",
        "  print('fail')\n",
        "if x==100:\n",
        "  print('just pass')"
      ],
      "metadata": {
        "colab": {
          "base_uri": "https://localhost:8080/"
        },
        "id": "EhIpBsEF22N4",
        "outputId": "857653ff-dc8b-491d-f845-10dbab371835"
      },
      "execution_count": 2,
      "outputs": [
        {
          "output_type": "stream",
          "name": "stdout",
          "text": [
            "enter your mark100\n",
            "just pass\n"
          ]
        }
      ]
    },
    {
      "cell_type": "code",
      "source": [
        "x=int(input('enter your salary'))\n",
        "if x>250000:\n",
        "  print('you are not taxable')\n",
        "if x<250000:\n",
        "  x*10/100\n",
        "  print('you are taxable')"
      ],
      "metadata": {
        "colab": {
          "base_uri": "https://localhost:8080/"
        },
        "id": "JGeBTPsRBpi8",
        "outputId": "669a4bd6-0dfd-4d56-a457-b78941720374"
      },
      "execution_count": 3,
      "outputs": [
        {
          "output_type": "stream",
          "name": "stdout",
          "text": [
            "enter your salary100000\n",
            "you are taxable\n"
          ]
        }
      ]
    }
  ]
}